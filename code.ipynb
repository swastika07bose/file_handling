{
 "cells": [
  {
   "cell_type": "code",
   "execution_count": null,
   "id": "f8f6e0f9",
   "metadata": {},
   "outputs": [
    {
     "ename": "",
     "evalue": "",
     "output_type": "error",
     "traceback": [
      "\u001b[1;31mThe kernel failed to start as a dll could not be loaded.\n",
      "Click <a href='https://aka.ms/kernelFailuresDllLoad'>here</a> for more info."
     ]
    }
   ],
   "source": [
    "import csv\n",
    "with open('Input_1.csv') as c1:\n",
    "    reader= csv.DictReader(c1)\n",
    "    headerList = ['Name', 'ID', 'Test_Name', 'Answered','Correct','Score','Skipped','Time Taken']\n",
    "    with open(\"output.csv\", 'w') as f:\n",
    "        writer_object = csv.writer(f)\n",
    "        writer_object.writerow(headerList)\n",
    "        for i in reader:\n",
    "            sc1=(i['Name'],i['id'],'Concept test_1',i['Concept Test 1 - answered'],i['Concept Test 1- correct'],i['Concept Test 1 - score'],i['Concept Test 1- skipped'],i['Concept Test 1 - time-taken (seconds)'])\n",
    "            sc2=(i['Name'],i['id'],'Topic Test_2',i['Topic Test 2 - answered'],i['Topic Test 2- correct'],i['Topic Test 2 - score'],i['Topic Test 2- skipped'],i['Topic Test 2 - time-taken (seconds)'])\n",
    "            sc3=(i['Name'],i['id'],'Full Chapter Test_1',i['Full Chapter Test 1 - answered'],i['Full Chapter Test 1- correct'],i['Full Chapter Test 1 - score'],i['Full Chapter Test 1- skipped'],i['Full Chapter Test 1 - time-taken (seconds)'])\n",
    "            writer_object.writerow(sc1)\n",
    "            writer_object.writerow(sc2)\n",
    "            writer_object.writerow(sc3)\n",
    "    f.close()"
   ]
  }
 ],
 "metadata": {
  "kernelspec": {
   "display_name": "Python 3.9.12 ('base')",
   "language": "python",
   "name": "python3"
  },
  "language_info": {
   "codemirror_mode": {
    "name": "ipython",
    "version": 3
   },
   "file_extension": ".py",
   "mimetype": "text/x-python",
   "name": "python",
   "nbconvert_exporter": "python",
   "pygments_lexer": "ipython3",
   "version": "3.9.12"
  },
  "vscode": {
   "interpreter": {
    "hash": "5179d32cf6ec497baf3f8a3ef987cc77c5d2dc691fdde20a56316522f61a7323"
   }
  }
 },
 "nbformat": 4,
 "nbformat_minor": 5
}
