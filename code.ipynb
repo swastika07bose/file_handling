{
 "cells": [
  {
   "cell_type": "code",
   "execution_count": 18,
   "id": "f8f6e0f9",
   "metadata": {},
   "outputs": [],
   "source": [
    "with open('Input_1.csv') as c1:\n",
    "    reader= csv.DictReader(c1)\n",
    "    headerList = ['Name', 'ID', 'Test_Name', 'Answered','Correct','Score','Skipped','Time Taken']\n",
    "    with open(\"output.csv\", 'w') as f:\n",
    "        writer_object = writer(f)\n",
    "        writer_object.writerow(headerList)\n",
    "        for i in reader:\n",
    "            sc1=(i['Name'],i['id'],'Concept test_1',i['Concept Test 1 - answered'],i['Concept Test 1- correct'],i['Concept Test 1 - score'],i['Concept Test 1- skipped'],i['Concept Test 1 - time-taken (seconds)'])\n",
    "            sc2=(i['Name'],i['id'],'Topic Test_2',i['Topic Test 2 - answered'],i['Topic Test 2- correct'],i['Topic Test 2 - score'],i['Topic Test 2- skipped'],i['Topic Test 2 - time-taken (seconds)'])\n",
    "            sc3=(i['Name'],i['id'],'Full Chapter Test_1',i['Full Chapter Test 1 - answered'],i['Full Chapter Test 1- correct'],i['Full Chapter Test 1 - score'],i['Full Chapter Test 1- skipped'],i['Full Chapter Test 1 - time-taken (seconds)'])\n",
    "            writer_object.writerow(sc1)\n",
    "            writer_object.writerow(sc2)\n",
    "            writer_object.writerow(sc3)\n",
    "    f.close()"
   ]
  }
 ],
 "metadata": {
  "kernelspec": {
   "display_name": "Python 3 (ipykernel)",
   "language": "python",
   "name": "python3"
  },
  "language_info": {
   "codemirror_mode": {
    "name": "ipython",
    "version": 3
   },
   "file_extension": ".py",
   "mimetype": "text/x-python",
   "name": "python",
   "nbconvert_exporter": "python",
   "pygments_lexer": "ipython3",
   "version": "3.9.12"
  }
 },
 "nbformat": 4,
 "nbformat_minor": 5
}
